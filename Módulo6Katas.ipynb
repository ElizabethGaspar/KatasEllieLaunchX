{
  "cells": [
    {
      "cell_type": "markdown",
      "metadata": {},
      "source": [
        "# Ejercicio1: Crear y usar listas de Python\n"
      ]
    },
    {
      "cell_type": "markdown",
      "metadata": {},
      "source": [
        "### Ejercicio: Usar listas para almacenar nombres de planetas\n",
        "Las listas permiten almacenar varios valores en una sola variable. Comenzarás un proyecto sobre información planetaria creando una lista de planetas.\n",
        "\n",
        "> **TIP**\n",
        "> Dedica unos minutos para tratar de encontrar una solución. Luego desplázate hacia abajo hasta la parte inferior para ver si has logrado compilar el programa de acuerdo con las especificaciones"
      ]
    },
    {
      "cell_type": "markdown",
      "metadata": {},
      "source": [
        "En primer lugar, crea una variable denominada `planets`. Agrega los ocho planetas (sin Plutón) a la lista. A continuación, muestra el número de planetas."
      ]
    },
    {
      "cell_type": "code",
      "execution_count": 33,
      "metadata": {},
      "outputs": [
        {
          "ename": "TypeError",
          "evalue": "'tuple' object is not callable",
          "output_type": "error",
          "traceback": [
            "\u001b[1;31m---------------------------------------------------------------------------\u001b[0m",
            "\u001b[1;31mTypeError\u001b[0m                                 Traceback (most recent call last)",
            "\u001b[1;32mc:\\Users\\Usuario\\Desktop\\CursoIntroPython-main\\Módulo 6 - Introducción a las listas\\Módulo6Katas.ipynb Cell 4'\u001b[0m in \u001b[0;36m<module>\u001b[1;34m\u001b[0m\n\u001b[0;32m      <a href='vscode-notebook-cell:/c%3A/Users/Usuario/Desktop/CursoIntroPython-main/M%C3%B3dulo%206%20-%20Introducci%C3%B3n%20a%20las%20listas/M%C3%B3dulo6Katas.ipynb#ch0000003?line=0'>1</a>\u001b[0m \u001b[39m# Creamos la lista planets y la mostramos\u001b[39;00m\n\u001b[0;32m      <a href='vscode-notebook-cell:/c%3A/Users/Usuario/Desktop/CursoIntroPython-main/M%C3%B3dulo%206%20-%20Introducci%C3%B3n%20a%20las%20listas/M%C3%B3dulo6Katas.ipynb#ch0000003?line=1'>2</a>\u001b[0m planets \u001b[39m=\u001b[39m [\u001b[39m'\u001b[39m\u001b[39mMercury\u001b[39m\u001b[39m'\u001b[39m, \u001b[39m'\u001b[39m\u001b[39mVenus\u001b[39m\u001b[39m'\u001b[39m, \u001b[39m'\u001b[39m\u001b[39mEarth\u001b[39m\u001b[39m'\u001b[39m, \u001b[39m'\u001b[39m\u001b[39mMars\u001b[39m\u001b[39m'\u001b[39m, \u001b[39m'\u001b[39m\u001b[39mJupiter\u001b[39m\u001b[39m'\u001b[39m, \u001b[39m'\u001b[39m\u001b[39mSaturn\u001b[39m\u001b[39m'\u001b[39m, \u001b[39m'\u001b[39m\u001b[39mUranus\u001b[39m\u001b[39m'\u001b[39m, \u001b[39m'\u001b[39m\u001b[39mNeptune\u001b[39m\u001b[39m'\u001b[39m]\n\u001b[1;32m----> <a href='vscode-notebook-cell:/c%3A/Users/Usuario/Desktop/CursoIntroPython-main/M%C3%B3dulo%206%20-%20Introducci%C3%B3n%20a%20las%20listas/M%C3%B3dulo6Katas.ipynb#ch0000003?line=2'>3</a>\u001b[0m \u001b[39mprint\u001b[39;49m(\u001b[39m'\u001b[39;49m\u001b[39mThere are\u001b[39;49m\u001b[39m'\u001b[39;49m, \u001b[39mlen\u001b[39;49m(planets), \u001b[39m'\u001b[39;49m\u001b[39mplanets\u001b[39;49m\u001b[39m'\u001b[39;49m)\n",
            "\u001b[1;31mTypeError\u001b[0m: 'tuple' object is not callable"
          ]
        }
      ],
      "source": [
        "# Creamos la lista planets y la mostramos\n",
        "planets = ['Mercury', 'Venus', 'Earth', 'Mars', 'Jupiter', 'Saturn', 'Uranus', 'Neptune']\n",
        "print('Estos son:', len(planets), 'los planetas')"
      ]
    },
    {
      "cell_type": "markdown",
      "metadata": {},
      "source": [
        "Agrega a Plutón a la lista que creaste. Luego muestra tanto el número de planetas como el último planeta de la lista."
      ]
    },
    {
      "cell_type": "code",
      "execution_count": 34,
      "metadata": {},
      "outputs": [
        {
          "ename": "TypeError",
          "evalue": "'tuple' object is not callable",
          "output_type": "error",
          "traceback": [
            "\u001b[1;31m---------------------------------------------------------------------------\u001b[0m",
            "\u001b[1;31mTypeError\u001b[0m                                 Traceback (most recent call last)",
            "\u001b[1;32mc:\\Users\\Usuario\\Desktop\\CursoIntroPython-main\\Módulo 6 - Introducción a las listas\\Módulo6Katas.ipynb Cell 6'\u001b[0m in \u001b[0;36m<module>\u001b[1;34m\u001b[0m\n\u001b[0;32m      <a href='vscode-notebook-cell:/c%3A/Users/Usuario/Desktop/CursoIntroPython-main/M%C3%B3dulo%206%20-%20Introducci%C3%B3n%20a%20las%20listas/M%C3%B3dulo6Katas.ipynb#ch0000005?line=2'>3</a>\u001b[0m planets\u001b[39m.\u001b[39mappend(\u001b[39m'\u001b[39m\u001b[39mPluto\u001b[39m\u001b[39m'\u001b[39m)\n\u001b[0;32m      <a href='vscode-notebook-cell:/c%3A/Users/Usuario/Desktop/CursoIntroPython-main/M%C3%B3dulo%206%20-%20Introducci%C3%B3n%20a%20las%20listas/M%C3%B3dulo6Katas.ipynb#ch0000005?line=3'>4</a>\u001b[0m num_planets \u001b[39m=\u001b[39m \u001b[39mlen\u001b[39m(planets)\n\u001b[1;32m----> <a href='vscode-notebook-cell:/c%3A/Users/Usuario/Desktop/CursoIntroPython-main/M%C3%B3dulo%206%20-%20Introducci%C3%B3n%20a%20las%20listas/M%C3%B3dulo6Katas.ipynb#ch0000005?line=4'>5</a>\u001b[0m \u001b[39mprint\u001b[39;49m(\u001b[39m'\u001b[39;49m\u001b[39mEl número total de planetas es\u001b[39;49m\u001b[39m'\u001b[39;49m,num_planets,\u001b[39m'\u001b[39;49m\u001b[39my el último planeta es\u001b[39;49m\u001b[39m'\u001b[39;49m,planets[\u001b[39m-\u001b[39;49m\u001b[39m1\u001b[39;49m])\n",
            "\u001b[1;31mTypeError\u001b[0m: 'tuple' object is not callable"
          ]
        }
      ],
      "source": [
        "# Agregamos a plutón y mostramos el último elemento\n",
        "planets = ['Mercury', 'Venus', 'Earth', 'Mars', 'Jupiter', 'Saturn', 'Uranus', 'Neptune']\n",
        "planets.append('Pluto')\n",
        "num_planets = len(planets)\n",
        "print('El número total de planetas es',num_planets,'y el último planeta es',planets[-1])"
      ]
    },
    {
      "cell_type": "markdown",
      "metadata": {},
      "source": [
        "> Recuerda: Lo importante es intentarlo, puedes auxiliarte de internet, libros, etc. El objetivo de una kata es la comprobación de la comprensión de la lección y su aplicación inmediata a la resolución de problemas. Go for it!"
      ]
    },
    {
      "cell_type": "markdown",
      "metadata": {},
      "source": [
        "## Ejercicio 2: Trabajando con datos de una lista\n",
        "\n",
        "### Usar slices para recuperar partes de una lista"
      ]
    },
    {
      "cell_type": "markdown",
      "metadata": {},
      "source": [
        "Es posible que debas trabajar con diferentes secciones de una lista. En nuestro ejemplo, queremos mostrar planetas más cerca y más lejos del sol de un planeta que el usuario ingresa por teclado.\n",
        "\n",
        "Comienza agregando el código para crear una lista con los planetas."
      ]
    },
    {
      "cell_type": "code",
      "execution_count": null,
      "metadata": {},
      "outputs": [],
      "source": [
        "# Lista de planetas\n",
        "planets = ['Mercury', 'Venus', 'Earth', 'Mars', 'Jupiter', 'Saturn', 'Neptune']"
      ]
    },
    {
      "cell_type": "markdown",
      "metadata": {},
      "source": [
        "### Solicita al usuario el nombre de un planeta\n",
        "\n",
        "A continuación, agrega el código para solicitar al usuario un nombre. Debido a que las cadenas distinguen entre mayúsculas y minúsculas en Python, pídale al usuario que use una letra mayúscula para comenzar el nombre del planeta."
      ]
    },
    {
      "cell_type": "code",
      "execution_count": 9,
      "metadata": {},
      "outputs": [
        {
          "name": "stdout",
          "output_type": "stream",
          "text": [
            "a\n"
          ]
        }
      ],
      "source": [
        "# Solicitamos el nombre de un planeta *Pista:  input()*\n",
        "solicitud_planets = input(\"Escribe el nombre de un planeta\")"
      ]
    },
    {
      "cell_type": "markdown",
      "metadata": {},
      "source": [
        "### Encuentra el planeta en la lista\n",
        "Para determinar qué planetas están más cerca que el que ingresó el usuario, debes encontrar dónde está el planeta en la lista. Puedes utilizar index para realizar esta operación. Agrega el código para encontrar el índice del planeta."
      ]
    },
    {
      "cell_type": "code",
      "execution_count": 35,
      "metadata": {},
      "outputs": [
        {
          "ename": "NameError",
          "evalue": "name 'solicitud_planets' is not defined",
          "output_type": "error",
          "traceback": [
            "\u001b[1;31m---------------------------------------------------------------------------\u001b[0m",
            "\u001b[1;31mNameError\u001b[0m                                 Traceback (most recent call last)",
            "\u001b[1;32mc:\\Users\\Usuario\\Desktop\\CursoIntroPython-main\\Módulo 6 - Introducción a las listas\\Módulo6Katas.ipynb Cell 14'\u001b[0m in \u001b[0;36m<module>\u001b[1;34m\u001b[0m\n\u001b[0;32m      <a href='vscode-notebook-cell:/c%3A/Users/Usuario/Desktop/CursoIntroPython-main/M%C3%B3dulo%206%20-%20Introducci%C3%B3n%20a%20las%20listas/M%C3%B3dulo6Katas.ipynb#ch0000013?line=0'>1</a>\u001b[0m \u001b[39m# Busca el planeta en la lista\u001b[39;00m\n\u001b[0;32m      <a href='vscode-notebook-cell:/c%3A/Users/Usuario/Desktop/CursoIntroPython-main/M%C3%B3dulo%206%20-%20Introducci%C3%B3n%20a%20las%20listas/M%C3%B3dulo6Katas.ipynb#ch0000013?line=1'>2</a>\u001b[0m planets \u001b[39m=\u001b[39m [\u001b[39m'\u001b[39m\u001b[39mMercury\u001b[39m\u001b[39m'\u001b[39m, \u001b[39m'\u001b[39m\u001b[39mVenus\u001b[39m\u001b[39m'\u001b[39m, \u001b[39m'\u001b[39m\u001b[39mEarth\u001b[39m\u001b[39m'\u001b[39m, \u001b[39m'\u001b[39m\u001b[39mMars\u001b[39m\u001b[39m'\u001b[39m, \u001b[39m'\u001b[39m\u001b[39mJupiter\u001b[39m\u001b[39m'\u001b[39m, \u001b[39m'\u001b[39m\u001b[39mSaturn\u001b[39m\u001b[39m'\u001b[39m, \u001b[39m'\u001b[39m\u001b[39mNeptune\u001b[39m\u001b[39m'\u001b[39m]\n\u001b[1;32m----> <a href='vscode-notebook-cell:/c%3A/Users/Usuario/Desktop/CursoIntroPython-main/M%C3%B3dulo%206%20-%20Introducci%C3%B3n%20a%20las%20listas/M%C3%B3dulo6Katas.ipynb#ch0000013?line=2'>3</a>\u001b[0m planet_index \u001b[39m=\u001b[39m planets\u001b[39m.\u001b[39mindex(solicitud_planets)\n",
            "\u001b[1;31mNameError\u001b[0m: name 'solicitud_planets' is not defined"
          ]
        }
      ],
      "source": [
        "# Busca el planeta en la lista\n",
        "planets = ['Mercury', 'Venus', 'Earth', 'Mars', 'Jupiter', 'Saturn', 'Neptune']\n",
        "planet_index = planets.index(solicitud_planets)"
      ]
    },
    {
      "cell_type": "markdown",
      "metadata": {},
      "source": [
        "### Mostrar planetas más cercanos al sol que el que el usuario ingresó\n",
        "\n",
        "Con el índice determinado, ahora puedes agregar el código para mostrar los planetas más cercanos al sol."
      ]
    },
    {
      "cell_type": "code",
      "execution_count": 38,
      "metadata": {},
      "outputs": [
        {
          "ename": "NameError",
          "evalue": "name 'planet_index' is not defined",
          "output_type": "error",
          "traceback": [
            "\u001b[1;31m---------------------------------------------------------------------------\u001b[0m",
            "\u001b[1;31mNameError\u001b[0m                                 Traceback (most recent call last)",
            "\u001b[1;32mc:\\Users\\Usuario\\Desktop\\CursoIntroPython-main\\Módulo 6 - Introducción a las listas\\Módulo6Katas.ipynb Cell 16'\u001b[0m in \u001b[0;36m<module>\u001b[1;34m\u001b[0m\n\u001b[0;32m      <a href='vscode-notebook-cell:/c%3A/Users/Usuario/Desktop/CursoIntroPython-main/M%C3%B3dulo%206%20-%20Introducci%C3%B3n%20a%20las%20listas/M%C3%B3dulo6Katas.ipynb#ch0000031?line=0'>1</a>\u001b[0m planets \u001b[39m=\u001b[39m [\u001b[39m'\u001b[39m\u001b[39mMercury\u001b[39m\u001b[39m'\u001b[39m, \u001b[39m'\u001b[39m\u001b[39mVenus\u001b[39m\u001b[39m'\u001b[39m, \u001b[39m'\u001b[39m\u001b[39mEarth\u001b[39m\u001b[39m'\u001b[39m, \u001b[39m'\u001b[39m\u001b[39mMars\u001b[39m\u001b[39m'\u001b[39m, \u001b[39m'\u001b[39m\u001b[39mJupiter\u001b[39m\u001b[39m'\u001b[39m, \u001b[39m'\u001b[39m\u001b[39mSaturn\u001b[39m\u001b[39m'\u001b[39m, \u001b[39m'\u001b[39m\u001b[39mUranus\u001b[39m\u001b[39m'\u001b[39m, \u001b[39m'\u001b[39m\u001b[39mNeptune\u001b[39m\u001b[39m'\u001b[39m]\n\u001b[1;32m----> <a href='vscode-notebook-cell:/c%3A/Users/Usuario/Desktop/CursoIntroPython-main/M%C3%B3dulo%206%20-%20Introducci%C3%B3n%20a%20las%20listas/M%C3%B3dulo6Katas.ipynb#ch0000031?line=2'>3</a>\u001b[0m \u001b[39mprint\u001b[39m(\u001b[39m'\u001b[39m\u001b[39mEl planeta más cercano al sol es\u001b[39m\u001b[39m'\u001b[39m \u001b[39m+\u001b[39m planet_index)\n\u001b[0;32m      <a href='vscode-notebook-cell:/c%3A/Users/Usuario/Desktop/CursoIntroPython-main/M%C3%B3dulo%206%20-%20Introducci%C3%B3n%20a%20las%20listas/M%C3%B3dulo6Katas.ipynb#ch0000031?line=3'>4</a>\u001b[0m \u001b[39mprint\u001b[39m(planets[\u001b[39m0\u001b[39m:planet_index])\n",
            "\u001b[1;31mNameError\u001b[0m: name 'planet_index' is not defined"
          ]
        }
      ],
      "source": [
        "planets = ['Mercury', 'Venus', 'Earth', 'Mars', 'Jupiter', 'Saturn', 'Uranus', 'Neptune']\n",
        "planet_index = planets.index(solicitud_planets)\n",
        "print('El planeta más cercano al sol es' + planet_index)\n",
        "print(planets[0:planet_index])"
      ]
    },
    {
      "cell_type": "markdown",
      "metadata": {},
      "source": [
        "# Mostrar planetas más alejados del sol que el que el usuario ingresó\n",
        "\n",
        "Puedes usar el mismo índice para mostrar planetas más alejados del sol. Sin embargo, recuerda que el índice inicial se incluye cuando usas un slice. Como resultado, tendrás que agregar 1 al valor. Agrega el código para mostrar los planetas más alejados del sol."
      ]
    },
    {
      "cell_type": "code",
      "execution_count": 42,
      "metadata": {},
      "outputs": [
        {
          "ename": "TypeError",
          "evalue": "can only concatenate str (not \"int\") to str",
          "output_type": "error",
          "traceback": [
            "\u001b[1;31m---------------------------------------------------------------------------\u001b[0m",
            "\u001b[1;31mTypeError\u001b[0m                                 Traceback (most recent call last)",
            "\u001b[1;32mc:\\Users\\Usuario\\Desktop\\CursoIntroPython-main\\Módulo 6 - Introducción a las listas\\Módulo6Katas.ipynb Cell 18'\u001b[0m in \u001b[0;36m<module>\u001b[1;34m\u001b[0m\n\u001b[0;32m      <a href='vscode-notebook-cell:/c%3A/Users/Usuario/Desktop/CursoIntroPython-main/M%C3%B3dulo%206%20-%20Introducci%C3%B3n%20a%20las%20listas/M%C3%B3dulo6Katas.ipynb#ch0000017?line=2'>3</a>\u001b[0m solicitud_planets \u001b[39m=\u001b[39m \u001b[39minput\u001b[39m(\u001b[39m\"\u001b[39m\u001b[39mEscribe el nombre de un planeta\u001b[39m\u001b[39m\"\u001b[39m)\n\u001b[0;32m      <a href='vscode-notebook-cell:/c%3A/Users/Usuario/Desktop/CursoIntroPython-main/M%C3%B3dulo%206%20-%20Introducci%C3%B3n%20a%20las%20listas/M%C3%B3dulo6Katas.ipynb#ch0000017?line=3'>4</a>\u001b[0m planet_index \u001b[39m=\u001b[39m planets\u001b[39m.\u001b[39mindex(solicitud_planets)\n\u001b[1;32m----> <a href='vscode-notebook-cell:/c%3A/Users/Usuario/Desktop/CursoIntroPython-main/M%C3%B3dulo%206%20-%20Introducci%C3%B3n%20a%20las%20listas/M%C3%B3dulo6Katas.ipynb#ch0000017?line=4'>5</a>\u001b[0m \u001b[39mprint\u001b[39m(\u001b[39m'\u001b[39;49m\u001b[39mEl planeta más lejano al sol es\u001b[39;49m\u001b[39m'\u001b[39;49m \u001b[39m+\u001b[39;49m planet_index)\n\u001b[0;32m      <a href='vscode-notebook-cell:/c%3A/Users/Usuario/Desktop/CursoIntroPython-main/M%C3%B3dulo%206%20-%20Introducci%C3%B3n%20a%20las%20listas/M%C3%B3dulo6Katas.ipynb#ch0000017?line=5'>6</a>\u001b[0m \u001b[39mprint\u001b[39m(planets[planet_index \u001b[39m+\u001b[39m\u001b[39m1\u001b[39m:])\n",
            "\u001b[1;31mTypeError\u001b[0m: can only concatenate str (not \"int\") to str"
          ]
        }
      ],
      "source": [
        "# Muestra los planetas más lejanos al sol\n",
        "planets = ['Mercury', 'Venus', 'Earth', 'Mars', 'Jupiter', 'Saturn', 'Uranus', 'Neptune']\n",
        "solicitud_planets = input(\"Escribe el nombre de un planeta\")\n",
        "planet_index = planets.index(solicitud_planets)\n",
        "print('El planeta más lejano al sol es' + planet_index)\n",
        "print(planets[planet_index +1:])"
      ]
    },
    {
      "cell_type": "markdown",
      "metadata": {},
      "source": [
        "## Soluciones"
      ]
    },
    {
      "cell_type": "markdown",
      "metadata": {},
      "source": [
        "### Ejercicio 1"
      ]
    },
    {
      "cell_type": "code",
      "execution_count": null,
      "metadata": {},
      "outputs": [],
      "source": [
        "# Creamos la lista planets y la mostramos\n",
        "\n",
        "planets = ['Mercury', 'Venus', 'Earth', 'Mars', 'Jupiter', 'Saturn', 'Uranus', 'Neptune']\n",
        "\n",
        "print('There are', len(planets), 'planets')"
      ]
    },
    {
      "cell_type": "code",
      "execution_count": null,
      "metadata": {},
      "outputs": [],
      "source": [
        "# Agregamos a plutón y mostramos el último elemento\n",
        "\n",
        "planets.append('Pluto')\n",
        "\n",
        "print(planets[-1], 'is the last planet')"
      ]
    },
    {
      "cell_type": "markdown",
      "metadata": {},
      "source": [
        "## Ejercicio 2"
      ]
    },
    {
      "cell_type": "code",
      "execution_count": null,
      "metadata": {},
      "outputs": [],
      "source": [
        "# Lista de planetas\n",
        "\n",
        "planets = ['Mercury', 'Venus', 'Earth', 'Mars', 'Jupiter', 'Saturn', 'Neptune']"
      ]
    },
    {
      "cell_type": "code",
      "execution_count": 44,
      "metadata": {},
      "outputs": [],
      "source": [
        "# Solicitamos el nombre de un planeta *Pista:  input()*\n",
        "planets = ['Mercury', 'Venus', 'Earth', 'Mars', 'Jupiter', 'Saturn', 'Neptune']\n",
        "user_planet = input('Please enter the name of the planet (with a capital letter to start)')"
      ]
    },
    {
      "cell_type": "code",
      "execution_count": 57,
      "metadata": {},
      "outputs": [
        {
          "ename": "TypeError",
          "evalue": "'tuple' object is not callable",
          "output_type": "error",
          "traceback": [
            "\u001b[1;31m---------------------------------------------------------------------------\u001b[0m",
            "\u001b[1;31mTypeError\u001b[0m                                 Traceback (most recent call last)",
            "\u001b[1;32mc:\\Users\\Usuario\\Desktop\\CursoIntroPython-main\\Módulo 6 - Introducción a las listas\\Módulo6Katas.ipynb Cell 26'\u001b[0m in \u001b[0;36m<module>\u001b[1;34m\u001b[0m\n\u001b[0;32m      <a href='vscode-notebook-cell:/c%3A/Users/Usuario/Desktop/CursoIntroPython-main/M%C3%B3dulo%206%20-%20Introducci%C3%B3n%20a%20las%20listas/M%C3%B3dulo6Katas.ipynb#ch0000025?line=2'>3</a>\u001b[0m u_planet \u001b[39m=\u001b[39m \u001b[39minput\u001b[39m(\u001b[39m'\u001b[39m\u001b[39mPlease enter the name of the planet (with a capital letter to start)\u001b[39m\u001b[39m'\u001b[39m)\n\u001b[0;32m      <a href='vscode-notebook-cell:/c%3A/Users/Usuario/Desktop/CursoIntroPython-main/M%C3%B3dulo%206%20-%20Introducci%C3%B3n%20a%20las%20listas/M%C3%B3dulo6Katas.ipynb#ch0000025?line=3'>4</a>\u001b[0m planet_index \u001b[39m=\u001b[39m planets\u001b[39m.\u001b[39mindex(u_planet)\n\u001b[1;32m----> <a href='vscode-notebook-cell:/c%3A/Users/Usuario/Desktop/CursoIntroPython-main/M%C3%B3dulo%206%20-%20Introducci%C3%B3n%20a%20las%20listas/M%C3%B3dulo6Katas.ipynb#ch0000025?line=4'>5</a>\u001b[0m \u001b[39mprint\u001b[39;49m(\u001b[39m'\u001b[39;49m\u001b[39mHere are the planets closer than \u001b[39;49m\u001b[39m'\u001b[39;49m \u001b[39m+\u001b[39;49m u_planet)\n\u001b[0;32m      <a href='vscode-notebook-cell:/c%3A/Users/Usuario/Desktop/CursoIntroPython-main/M%C3%B3dulo%206%20-%20Introducci%C3%B3n%20a%20las%20listas/M%C3%B3dulo6Katas.ipynb#ch0000025?line=5'>6</a>\u001b[0m \u001b[39mprint\u001b[39m(planets[\u001b[39m0\u001b[39m:planet_index])\n",
            "\u001b[1;31mTypeError\u001b[0m: 'tuple' object is not callable"
          ]
        }
      ],
      "source": [
        "# Busca el planeta en la lista\n",
        "planets = ['Mercury', 'Venus', 'Earth', 'Mars', 'Jupiter', 'Saturn', 'Neptune']\n",
        "u_planet = input('Please enter the name of the planet (with a capital letter to start)')\n",
        "planet_index = planets.index(u_planet)\n",
        "print('Here are the planets closer than ' + u_planet)\n",
        "print(planets[0:planet_index])"
      ]
    },
    {
      "cell_type": "code",
      "execution_count": 51,
      "metadata": {},
      "outputs": [
        {
          "ename": "TypeError",
          "evalue": "'tuple' object is not callable",
          "output_type": "error",
          "traceback": [
            "\u001b[1;31m---------------------------------------------------------------------------\u001b[0m",
            "\u001b[1;31mTypeError\u001b[0m                                 Traceback (most recent call last)",
            "\u001b[1;32mc:\\Users\\Usuario\\Desktop\\CursoIntroPython-main\\Módulo 6 - Introducción a las listas\\Módulo6Katas.ipynb Cell 27'\u001b[0m in \u001b[0;36m<module>\u001b[1;34m\u001b[0m\n\u001b[0;32m      <a href='vscode-notebook-cell:/c%3A/Users/Usuario/Desktop/CursoIntroPython-main/M%C3%B3dulo%206%20-%20Introducci%C3%B3n%20a%20las%20listas/M%C3%B3dulo6Katas.ipynb#ch0000026?line=2'>3</a>\u001b[0m user_planet \u001b[39m=\u001b[39m \u001b[39minput\u001b[39m(\u001b[39m'\u001b[39m\u001b[39mPlease enter the name of the planet (with a capital letter to start)\u001b[39m\u001b[39m'\u001b[39m)\n\u001b[0;32m      <a href='vscode-notebook-cell:/c%3A/Users/Usuario/Desktop/CursoIntroPython-main/M%C3%B3dulo%206%20-%20Introducci%C3%B3n%20a%20las%20listas/M%C3%B3dulo6Katas.ipynb#ch0000026?line=3'>4</a>\u001b[0m planet_index \u001b[39m=\u001b[39m planets\u001b[39m.\u001b[39mindex(user_planet)\n\u001b[1;32m----> <a href='vscode-notebook-cell:/c%3A/Users/Usuario/Desktop/CursoIntroPython-main/M%C3%B3dulo%206%20-%20Introducci%C3%B3n%20a%20las%20listas/M%C3%B3dulo6Katas.ipynb#ch0000026?line=4'>5</a>\u001b[0m \u001b[39mprint\u001b[39;49m(\u001b[39m'\u001b[39;49m\u001b[39mHere are the planets closer than \u001b[39;49m\u001b[39m'\u001b[39;49m \u001b[39m+\u001b[39;49m user_planet)\n\u001b[0;32m      <a href='vscode-notebook-cell:/c%3A/Users/Usuario/Desktop/CursoIntroPython-main/M%C3%B3dulo%206%20-%20Introducci%C3%B3n%20a%20las%20listas/M%C3%B3dulo6Katas.ipynb#ch0000026?line=5'>6</a>\u001b[0m \u001b[39mprint\u001b[39m(planets[\u001b[39m0\u001b[39m:planet_index])\n",
            "\u001b[1;31mTypeError\u001b[0m: 'tuple' object is not callable"
          ]
        }
      ],
      "source": [
        "# Muestra los planetas más cercanos al sol\n",
        "planets = ['Mercury', 'Venus', 'Earth', 'Mars', 'Jupiter', 'Saturn', 'Neptune']\n",
        "user_planet = input('Please enter the name of the planet (with a capital letter to start)')\n",
        "planet_index = planets.index(user_planet)\n",
        "print('Here are the planets closer than ' + user_planet)\n",
        "print(planets[0:planet_index])M\n"
      ]
    },
    {
      "cell_type": "code",
      "execution_count": null,
      "metadata": {},
      "outputs": [],
      "source": [
        "# Muestra los planetas más lejanos al sol\n",
        "\n",
        "print('Here are the planets further than ' + user_planet)\n",
        "print(planets[planet_index + 1:])"
      ]
    },
    {
      "cell_type": "markdown",
      "metadata": {},
      "source": [
        "Curso Propedútico de Python para Launch X - Innovacción Virtual.\n",
        "\n",
        "Material desarrollado con base en los contenidos de MSLearn y la metáfora de LaunchX, traducción e implementación por: Fernanda Ochoa - Learning Producer de LaunchX.\n",
        "\n",
        "Redes:\n",
        "* GitHub: [FernandaOchoa](https://github.com/FernandaOchoa)\n",
        "* Twitter: [@imonsh](https://twitter.com/imonsh)\n",
        "* Instagram: [fherz8a](https://www.instagram.com/fherz8a/)"
      ]
    }
  ],
  "metadata": {
    "interpreter": {
      "hash": "b8bdd4e700647ba2b08c59e5df8b7da1dcf50a218bcd4c1bcd9b3dc92e8788e5"
    },
    "kernelspec": {
      "display_name": "Python 3.9.1 64-bit",
      "name": "python3"
    },
    "language_info": {
      "codemirror_mode": {
        "name": "ipython",
        "version": 3
      },
      "file_extension": ".py",
      "mimetype": "text/x-python",
      "name": "python",
      "nbconvert_exporter": "python",
      "pygments_lexer": "ipython3",
      "version": "3.10.2"
    },
    "nteract": {
      "version": "nteract-front-end@1.0.0"
    }
  },
  "nbformat": 4,
  "nbformat_minor": 4
}
